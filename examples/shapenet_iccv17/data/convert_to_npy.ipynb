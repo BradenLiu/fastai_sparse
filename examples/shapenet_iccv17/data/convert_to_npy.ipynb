{
 "cells": [
  {
   "cell_type": "markdown",
   "metadata": {},
   "source": [
    "# Imports"
   ]
  },
  {
   "cell_type": "code",
   "execution_count": 1,
   "metadata": {},
   "outputs": [],
   "source": [
    "import os, sys\n",
    "import time\n",
    "import math\n",
    "import numpy as np\n",
    "import pandas as pd\n",
    "import datetime\n",
    "import glob\n",
    "from IPython.display import display, HTML, FileLink\n",
    "from pathlib import Path\n",
    "from os.path import join, exists, basename, splitext\n",
    "from matplotlib import pyplot as plt\n",
    "from matplotlib import cm\n",
    "import shutil\n",
    "from tqdm import tqdm\n",
    "from joblib import Parallel, delayed, cpu_count\n",
    "\n",
    "# autoreload python modules on the fly when its source is changed\n",
    "%load_ext autoreload\n",
    "%autoreload 2"
   ]
  },
  {
   "cell_type": "code",
   "execution_count": 2,
   "metadata": {},
   "outputs": [
    {
     "data": {
      "text/html": [
       "<style>.container { width:70% !important; }</style>"
      ],
      "text/plain": [
       "<IPython.core.display.HTML object>"
      ]
     },
     "metadata": {},
     "output_type": "display_data"
    }
   ],
   "source": [
    "#from IPython.core.display import display, HTML\\n\",\n",
    "display(HTML(\"<style>.container { width:70% !important; }</style>\"))"
   ]
  },
  {
   "cell_type": "code",
   "execution_count": 3,
   "metadata": {},
   "outputs": [],
   "source": [
    "fastai_path = '../'\n",
    "assert os.path.exists(fastai_path)\n",
    "sys.path.append(fastai_path)\n",
    "\n",
    "from fastai_sparse import utils\n",
    "from fastai_sparse.utils import log"
   ]
  },
  {
   "cell_type": "code",
   "execution_count": 4,
   "metadata": {},
   "outputs": [
    {
     "data": {
      "text/plain": [
       "16"
      ]
     },
     "execution_count": 4,
     "metadata": {},
     "output_type": "execute_result"
    }
   ],
   "source": [
    "n_jobs = cpu_count()    \n",
    "n_jobs"
   ]
  },
  {
   "cell_type": "markdown",
   "metadata": {},
   "source": [
    "# Results dir"
   ]
  },
  {
   "cell_type": "code",
   "execution_count": 5,
   "metadata": {},
   "outputs": [
    {
     "name": "stdout",
     "output_type": "stream",
     "text": [
      "results_dir: npy\n"
     ]
    }
   ],
   "source": [
    "results_dir = 'npy'\n",
    "\n",
    "print(\"results_dir:\" , results_dir)\n",
    "\n",
    "if not exists(results_dir):\n",
    "    os.makedirs(results_dir)"
   ]
  },
  {
   "cell_type": "markdown",
   "metadata": {},
   "source": [
    "# Train / Valid Dataset "
   ]
  },
  {
   "cell_type": "markdown",
   "metadata": {},
   "source": [
    "## Create DataFrames"
   ]
  },
  {
   "cell_type": "code",
   "execution_count": 6,
   "metadata": {},
   "outputs": [
    {
     "name": "stdout",
     "output_type": "stream",
     "text": [
      ".\n",
      "train_val\n"
     ]
    }
   ],
   "source": [
    "\n",
    "SOURCE_DIR = Path('./').expanduser()\n",
    "assert SOURCE_DIR.exists()\n",
    "\n",
    "DIR_TRAIN_VAL = SOURCE_DIR / 'train_val'\n",
    "assert DIR_TRAIN_VAL.exists(), \"Hint: run `download_and_split_data.sh`\"\n",
    "\n",
    "print(SOURCE_DIR)\n",
    "print(DIR_TRAIN_VAL)"
   ]
  },
  {
   "cell_type": "code",
   "execution_count": 7,
   "metadata": {},
   "outputs": [
    {
     "data": {
      "text/plain": [
       "(16, 16)"
      ]
     },
     "execution_count": 7,
     "metadata": {},
     "output_type": "execute_result"
    }
   ],
   "source": [
    "categories = [\n",
    "    \"02691156\", \"02773838\", \"02954340\", \"02958343\", \"03001627\", \"03261776\",\n",
    "    \"03467517\", \"03624134\", \"03636649\", \"03642806\", \"03790512\", \"03797390\",\n",
    "    \"03948459\", \"04099429\", \"04225987\", \"04379243\"\n",
    "]\n",
    "\n",
    "classes = [\n",
    "    'Airplane', 'Bag', 'Cap', 'Car', 'Chair', 'Earphone', 'Guitar', 'Knife',\n",
    "    'Lamp', 'Laptop', 'Motorbike', 'Mug', 'Pistol', 'Rocket', 'Skateboard',\n",
    "    'Table'\n",
    "]\n",
    "\n",
    "num_classes_by_category = [4, 2, 2, 4, 4, 3, 3, 2, 4, 2, 6, 2, 3, 3, 3, 3]\n",
    "\n",
    "len(categories), len(classes)"
   ]
  },
  {
   "cell_type": "code",
   "execution_count": 8,
   "metadata": {},
   "outputs": [],
   "source": [
    "def get_trainval_df(path=DIR_TRAIN_VAL, categ='all', categories=categories, ext='.pts.train'):\n",
    "    rows = []\n",
    "    if categ == 'all':\n",
    "        for categ_idx, categ_dir in enumerate(categories):\n",
    "            pattern = str(path / categ_dir / ('*' + ext))\n",
    "            fnames = glob.glob(pattern)\n",
    "            for fname in fnames:\n",
    "                fname = Path(fname)\n",
    "                row = {}\n",
    "                row['example_id'] = fname.name.split('.')[0]\n",
    "                row['categ_dir'] = categ_dir\n",
    "                row['categ_idx'] = categ_idx\n",
    "                row['ext'] = ext\n",
    "                row['ext_labels'] = '.seg'\n",
    "                \n",
    "                rows.append(row)\n",
    "    df = pd.DataFrame(rows)\n",
    "    df = utils.df_order_columns(df, ['example_id', 'categ_dir'])\n",
    "    return df"
   ]
  },
  {
   "cell_type": "code",
   "execution_count": 9,
   "metadata": {},
   "outputs": [
    {
     "name": "stdout",
     "output_type": "stream",
     "text": [
      "6955\n"
     ]
    },
    {
     "data": {
      "text/html": [
       "<div>\n",
       "<style scoped>\n",
       "    .dataframe tbody tr th:only-of-type {\n",
       "        vertical-align: middle;\n",
       "    }\n",
       "\n",
       "    .dataframe tbody tr th {\n",
       "        vertical-align: top;\n",
       "    }\n",
       "\n",
       "    .dataframe thead th {\n",
       "        text-align: right;\n",
       "    }\n",
       "</style>\n",
       "<table border=\"1\" class=\"dataframe\">\n",
       "  <thead>\n",
       "    <tr style=\"text-align: right;\">\n",
       "      <th></th>\n",
       "      <th>example_id</th>\n",
       "      <th>categ_dir</th>\n",
       "      <th>categ_idx</th>\n",
       "      <th>ext</th>\n",
       "      <th>ext_labels</th>\n",
       "    </tr>\n",
       "  </thead>\n",
       "  <tbody>\n",
       "    <tr>\n",
       "      <th>0</th>\n",
       "      <td>003527</td>\n",
       "      <td>02691156</td>\n",
       "      <td>0</td>\n",
       "      <td>.pts.train</td>\n",
       "      <td>.seg</td>\n",
       "    </tr>\n",
       "    <tr>\n",
       "      <th>1</th>\n",
       "      <td>002015</td>\n",
       "      <td>02691156</td>\n",
       "      <td>0</td>\n",
       "      <td>.pts.train</td>\n",
       "      <td>.seg</td>\n",
       "    </tr>\n",
       "    <tr>\n",
       "      <th>2</th>\n",
       "      <td>000276</td>\n",
       "      <td>02691156</td>\n",
       "      <td>0</td>\n",
       "      <td>.pts.train</td>\n",
       "      <td>.seg</td>\n",
       "    </tr>\n",
       "    <tr>\n",
       "      <th>3</th>\n",
       "      <td>013278</td>\n",
       "      <td>02691156</td>\n",
       "      <td>0</td>\n",
       "      <td>.pts.train</td>\n",
       "      <td>.seg</td>\n",
       "    </tr>\n",
       "    <tr>\n",
       "      <th>4</th>\n",
       "      <td>013939</td>\n",
       "      <td>02691156</td>\n",
       "      <td>0</td>\n",
       "      <td>.pts.train</td>\n",
       "      <td>.seg</td>\n",
       "    </tr>\n",
       "  </tbody>\n",
       "</table>\n",
       "</div>"
      ],
      "text/plain": [
       "  example_id categ_dir  categ_idx         ext ext_labels\n",
       "0     003527  02691156          0  .pts.train       .seg\n",
       "1     002015  02691156          0  .pts.train       .seg\n",
       "2     000276  02691156          0  .pts.train       .seg\n",
       "3     013278  02691156          0  .pts.train       .seg\n",
       "4     013939  02691156          0  .pts.train       .seg"
      ]
     },
     "execution_count": 9,
     "metadata": {},
     "output_type": "execute_result"
    }
   ],
   "source": [
    "df_train = get_trainval_df()\n",
    "df_valid = get_trainval_df(ext='.pts.valid')\n",
    "\n",
    "print(len(df_train))\n",
    "df_train.head()"
   ]
  },
  {
   "cell_type": "code",
   "execution_count": 10,
   "metadata": {},
   "outputs": [
    {
     "name": "stdout",
     "output_type": "stream",
     "text": [
      "7052\n"
     ]
    },
    {
     "data": {
      "text/html": [
       "<div>\n",
       "<style scoped>\n",
       "    .dataframe tbody tr th:only-of-type {\n",
       "        vertical-align: middle;\n",
       "    }\n",
       "\n",
       "    .dataframe tbody tr th {\n",
       "        vertical-align: top;\n",
       "    }\n",
       "\n",
       "    .dataframe thead th {\n",
       "        text-align: right;\n",
       "    }\n",
       "</style>\n",
       "<table border=\"1\" class=\"dataframe\">\n",
       "  <thead>\n",
       "    <tr style=\"text-align: right;\">\n",
       "      <th></th>\n",
       "      <th>example_id</th>\n",
       "      <th>categ_dir</th>\n",
       "      <th>categ_idx</th>\n",
       "      <th>ext</th>\n",
       "      <th>ext_labels</th>\n",
       "    </tr>\n",
       "  </thead>\n",
       "  <tbody>\n",
       "    <tr>\n",
       "      <th>0</th>\n",
       "      <td>008759</td>\n",
       "      <td>02691156</td>\n",
       "      <td>0</td>\n",
       "      <td>.pts.valid</td>\n",
       "      <td>.seg</td>\n",
       "    </tr>\n",
       "    <tr>\n",
       "      <th>1</th>\n",
       "      <td>001821</td>\n",
       "      <td>02691156</td>\n",
       "      <td>0</td>\n",
       "      <td>.pts.valid</td>\n",
       "      <td>.seg</td>\n",
       "    </tr>\n",
       "    <tr>\n",
       "      <th>2</th>\n",
       "      <td>012245</td>\n",
       "      <td>02691156</td>\n",
       "      <td>0</td>\n",
       "      <td>.pts.valid</td>\n",
       "      <td>.seg</td>\n",
       "    </tr>\n",
       "    <tr>\n",
       "      <th>3</th>\n",
       "      <td>013005</td>\n",
       "      <td>02691156</td>\n",
       "      <td>0</td>\n",
       "      <td>.pts.valid</td>\n",
       "      <td>.seg</td>\n",
       "    </tr>\n",
       "    <tr>\n",
       "      <th>4</th>\n",
       "      <td>008566</td>\n",
       "      <td>02691156</td>\n",
       "      <td>0</td>\n",
       "      <td>.pts.valid</td>\n",
       "      <td>.seg</td>\n",
       "    </tr>\n",
       "  </tbody>\n",
       "</table>\n",
       "</div>"
      ],
      "text/plain": [
       "  example_id categ_dir  categ_idx         ext ext_labels\n",
       "0     008759  02691156          0  .pts.valid       .seg\n",
       "1     001821  02691156          0  .pts.valid       .seg\n",
       "2     012245  02691156          0  .pts.valid       .seg\n",
       "3     013005  02691156          0  .pts.valid       .seg\n",
       "4     008566  02691156          0  .pts.valid       .seg"
      ]
     },
     "execution_count": 10,
     "metadata": {},
     "output_type": "execute_result"
    }
   ],
   "source": [
    "print(len(df_valid))\n",
    "df_valid.head()"
   ]
  },
  {
   "cell_type": "markdown",
   "metadata": {},
   "source": [
    "# Test initial speed"
   ]
  },
  {
   "cell_type": "code",
   "execution_count": 11,
   "metadata": {},
   "outputs": [],
   "source": [
    "def get_file_name(row, rootpath=DIR_TRAIN_VAL, labels=False):\n",
    "    ext = row.ext\n",
    "    if labels:\n",
    "        ext = row.ext_labels\n",
    "    return rootpath / row.categ_dir / f\"{row.example_id}{ext}\"\n",
    "\n"
   ]
  },
  {
   "cell_type": "markdown",
   "metadata": {},
   "source": [
    "Test reading speed from `*.pts` files.  \n",
    "100 examples"
   ]
  },
  {
   "cell_type": "code",
   "execution_count": 12,
   "metadata": {},
   "outputs": [],
   "source": [
    "df_sample = df_train.sample(len(df_train))\n",
    "df_sample = df_sample.head(100)"
   ]
  },
  {
   "cell_type": "code",
   "execution_count": 13,
   "metadata": {
    "scrolled": true
   },
   "outputs": [
    {
     "name": "stderr",
     "output_type": "stream",
     "text": [
      "100%|██████████| 100/100 [00:06<00:00, 19.20it/s]\n"
     ]
    }
   ],
   "source": [
    "t = tqdm(df_sample.iterrows(), total=len(df_sample))\n",
    "for i, row in t:\n",
    "    fn = get_file_name(row)\n",
    "    x = np.loadtxt(fn)\n",
    "    \n",
    "    fn = get_file_name(row, labels=True)\n",
    "    y = np.loadtxt(fn) - 1\n",
    "    pass"
   ]
  },
  {
   "cell_type": "markdown",
   "metadata": {},
   "source": [
    "# Convert"
   ]
  },
  {
   "cell_type": "markdown",
   "metadata": {},
   "source": [
    "## Convert one"
   ]
  },
  {
   "cell_type": "code",
   "execution_count": 14,
   "metadata": {},
   "outputs": [],
   "source": [
    "root_dest = Path(results_dir, 'train')\n",
    "\n",
    "if root_dest.exists():\n",
    "    shutil.rmtree(root_dest)\n",
    "os.makedirs(str(root_dest))\n",
    "\n",
    "for categ_dir in df_train.categ_dir.unique():\n",
    "    categ_dir = root_dest / categ_dir\n",
    "    \n",
    "    if not categ_dir.exists():\n",
    "        os.makedirs(str(categ_dir))\n",
    "    "
   ]
  },
  {
   "cell_type": "code",
   "execution_count": 15,
   "metadata": {},
   "outputs": [],
   "source": [
    "def convert_one(row, root_source=DIR_TRAIN_VAL, root_dest=Path(results_dir, 'train')):\n",
    "    \n",
    "    fn = get_file_name(row, root_source)\n",
    "    x = np.loadtxt(fn).astype(np.float32)\n",
    "    \n",
    "    y = None\n",
    "    fn = get_file_name(row, root_source, labels=True)\n",
    "    if fn.exists():\n",
    "        y = np.loadtxt(fn).astype(np.int32)\n",
    "        \n",
    "    fn_res = root_dest / row.categ_dir / f'{row.example_id}.points.npy'\n",
    "    np.save(fn_res, x)\n",
    "    \n",
    "    fn_res = root_dest / row.categ_dir / f'{row.example_id}.labels.npy'\n",
    "    np.save(fn_res, y)\n",
    "    \n",
    "    \n",
    "def convert_df(df, root_source, root_dest, n_jobs=8):\n",
    "    if root_dest.exists():\n",
    "        shutil.rmtree(root_dest)\n",
    "\n",
    "    os.makedirs(str(root_dest))\n",
    "    print(len(df), root_source, '---->', root_dest)\n",
    "    sys.stdout.flush()\n",
    "    \n",
    "    categories = df.categ_dir.unique()\n",
    "    t = tqdm(categories, total=len(categories), desc='Make categories subdirs')\n",
    "    try:\n",
    "        for categ_dir in t:\n",
    "            categ_dir = root_dest / categ_dir\n",
    "\n",
    "            if not categ_dir.exists():\n",
    "                os.makedirs(str(categ_dir))\n",
    "    finally:\n",
    "        t.clear()\n",
    "        t.close()\n",
    "        sys.stderr.flush()\n",
    "            \n",
    "    sys.stdout.flush()\n",
    "    t = tqdm(df.iterrows(), total=len(df), desc=\"Convert files\")\n",
    "\n",
    "    try:\n",
    "        res = Parallel(n_jobs=n_jobs)(delayed(convert_one)(row, root_source, root_dest) for i, row in t)\n",
    "\n",
    "    finally:\n",
    "        t.clear()\n",
    "        t.close()\n",
    "        sys.stderr.flush()\n",
    "  "
   ]
  },
  {
   "cell_type": "code",
   "execution_count": 16,
   "metadata": {},
   "outputs": [],
   "source": [
    "row = df_train.iloc[0]\n",
    "convert_one(row, root_source=DIR_TRAIN_VAL, root_dest=Path(results_dir, 'train'))"
   ]
  },
  {
   "cell_type": "markdown",
   "metadata": {},
   "source": [
    "## Convert all"
   ]
  },
  {
   "cell_type": "code",
   "execution_count": 17,
   "metadata": {},
   "outputs": [],
   "source": [
    "df = df_train\n",
    "root_source = DIR_TRAIN_VAL\n",
    "root_dest = Path(results_dir, 'train')"
   ]
  },
  {
   "cell_type": "code",
   "execution_count": 18,
   "metadata": {},
   "outputs": [
    {
     "name": "stdout",
     "output_type": "stream",
     "text": [
      "6955 train_val ----> npy/train\n"
     ]
    },
    {
     "name": "stderr",
     "output_type": "stream",
     "text": [
      "Make categories subdirs: 100%|██████████| 16/16 [00:00<00:00, 6902.78it/s]\n",
      "Convert files: 100%|██████████| 6955/6955 [01:04<00:00, 108.60it/s]\n"
     ]
    }
   ],
   "source": [
    "convert_df(df, root_source, root_dest, n_jobs=n_jobs)"
   ]
  },
  {
   "cell_type": "code",
   "execution_count": 19,
   "metadata": {},
   "outputs": [
    {
     "name": "stdout",
     "output_type": "stream",
     "text": [
      "7052 train_val ----> npy/valid\n"
     ]
    },
    {
     "name": "stderr",
     "output_type": "stream",
     "text": [
      "Make categories subdirs: 100%|██████████| 16/16 [00:00<00:00, 9180.42it/s]\n",
      "Convert files: 100%|██████████| 7052/7052 [01:06<00:00, 105.28it/s]\n"
     ]
    }
   ],
   "source": [
    "convert_df(df_valid, DIR_TRAIN_VAL, Path(results_dir, 'valid'), n_jobs=n_jobs)"
   ]
  },
  {
   "cell_type": "code",
   "execution_count": 20,
   "metadata": {},
   "outputs": [],
   "source": [
    "# TODO:\n",
    "# convert_df(df_test, SOURCE_DIR / 'test', Path(results_dir, 'test'))"
   ]
  },
  {
   "cell_type": "markdown",
   "metadata": {},
   "source": [
    "# Test speed"
   ]
  },
  {
   "cell_type": "markdown",
   "metadata": {},
   "source": [
    "Test reading speed from `*.npy` files.  \n",
    "All ~ 7000 examples"
   ]
  },
  {
   "cell_type": "code",
   "execution_count": 21,
   "metadata": {},
   "outputs": [],
   "source": [
    "df_sample = df_train.sample(len(df_train))\n",
    "#df_sample = df_sample.head(100)\n",
    "df_sample.ext = '.points.npy'\n",
    "df_sample.ext_labels = '.labels.npy'"
   ]
  },
  {
   "cell_type": "code",
   "execution_count": 22,
   "metadata": {},
   "outputs": [],
   "source": [
    "path = Path(results_dir, 'train')"
   ]
  },
  {
   "cell_type": "code",
   "execution_count": 23,
   "metadata": {},
   "outputs": [
    {
     "name": "stderr",
     "output_type": "stream",
     "text": [
      "100%|██████████| 6955/6955 [00:05<00:00, 1309.08it/s]\n"
     ]
    }
   ],
   "source": [
    "t = tqdm(df_sample.iterrows(), total=len(df_sample))\n",
    "for i, row in t:\n",
    "    fn = get_file_name(row, rootpath=path)\n",
    "    x = np.load(fn)\n",
    "    fn = get_file_name(row, rootpath=path, labels=True)\n",
    "    y = np.load(fn)\n",
    "    pass"
   ]
  },
  {
   "cell_type": "code",
   "execution_count": 24,
   "metadata": {},
   "outputs": [
    {
     "data": {
      "text/plain": [
       "array([[ 0.33244,  0.13197, -0.02337],\n",
       "       [ 0.33204,  0.13197,  0.12372],\n",
       "       [ 0.31957,  0.13197, -0.07884],\n",
       "       ...,\n",
       "       [-0.30392,  0.06572,  0.3224 ],\n",
       "       [-0.30392,  0.04879,  0.31871],\n",
       "       [-0.30392, -0.05301,  0.30624]], dtype=float32)"
      ]
     },
     "execution_count": 24,
     "metadata": {},
     "output_type": "execute_result"
    }
   ],
   "source": [
    "x"
   ]
  },
  {
   "cell_type": "code",
   "execution_count": 25,
   "metadata": {},
   "outputs": [
    {
     "data": {
      "text/plain": [
       "array([1, 1, 1, ..., 2, 2, 2], dtype=int32)"
      ]
     },
     "execution_count": 25,
     "metadata": {},
     "output_type": "execute_result"
    }
   ],
   "source": [
    "y"
   ]
  },
  {
   "cell_type": "code",
   "execution_count": null,
   "metadata": {},
   "outputs": [],
   "source": []
  }
 ],
 "metadata": {
  "kernelspec": {
   "display_name": "Python 3",
   "language": "python",
   "name": "python3"
  },
  "language_info": {
   "codemirror_mode": {
    "name": "ipython",
    "version": 3
   },
   "file_extension": ".py",
   "mimetype": "text/x-python",
   "name": "python",
   "nbconvert_exporter": "python",
   "pygments_lexer": "ipython3",
   "version": "3.6.8"
  },
  "toc": {
   "base_numbering": 1,
   "nav_menu": {},
   "number_sections": true,
   "sideBar": true,
   "skip_h1_title": false,
   "title_cell": "Table of Contents",
   "title_sidebar": "Contents",
   "toc_cell": false,
   "toc_position": {
    "height": "1124px",
    "left": "100px",
    "top": "111.133px",
    "width": "223px"
   },
   "toc_section_display": true,
   "toc_window_display": true
  }
 },
 "nbformat": 4,
 "nbformat_minor": 2
}
